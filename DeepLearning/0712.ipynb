{
 "cells": [
  {
   "cell_type": "code",
   "execution_count": 14,
   "metadata": {},
   "outputs": [],
   "source": [
    "import tensorflow as tf\n",
    "import numpy as np\n",
    "from tensorflow import keras\n",
    "from tensorflow.keras import layers\n",
    "from tensorflow.keras.datasets import mnist"
   ]
  },
  {
   "cell_type": "code",
   "execution_count": 2,
   "metadata": {},
   "outputs": [],
   "source": [
    "data = mnist.load_data()"
   ]
  },
  {
   "cell_type": "code",
   "execution_count": 3,
   "metadata": {},
   "outputs": [
    {
     "name": "stdout",
     "output_type": "stream",
     "text": [
      "(60000, 28, 28) (60000,)\n",
      "(10000, 28, 28) (10000,)\n"
     ]
    }
   ],
   "source": [
    "train_data, test_data = data\n",
    "train_images, train_labels = train_data\n",
    "test_images, test_labels = test_data\n",
    "print(train_images.shape,train_labels.shape)\n",
    "print(test_images.shape,test_labels.shape)"
   ]
  },
  {
   "cell_type": "code",
   "execution_count": 4,
   "metadata": {},
   "outputs": [
    {
     "name": "stdout",
     "output_type": "stream",
     "text": [
      "(60000, 784) <class 'numpy.float32'>\n",
      "(10000, 784) <class 'numpy.float32'>\n"
     ]
    }
   ],
   "source": [
    "# 이미지 데이터 준비\n",
    "train_images2 = train_images.reshape(-1,28*28)\n",
    "train_images2 = train_images2.astype(\"float32\")/255\n",
    "test_images2 = test_images.reshape(-1,28*28)\n",
    "test_images2 = test_images2.astype(\"float32\")/255\n",
    "print(train_images2.shape,type(train_images2[0][0]))\n",
    "print(test_images2.shape,type(test_images2[0][0]))"
   ]
  },
  {
   "cell_type": "code",
   "execution_count": 5,
   "metadata": {},
   "outputs": [],
   "source": [
    "# 신경망 구조\n",
    "model = keras.Sequential()\n",
    "model.add(keras.Input(shape=(784,)))\n",
    "model.add(layers.Dense(512,activation='relu'))\n",
    "model.add(layers.Dense(10,activation='softmax'))"
   ]
  },
  {
   "cell_type": "code",
   "execution_count": 6,
   "metadata": {},
   "outputs": [],
   "source": [
    "model.compile(optimizer='adam', loss='sparse_categorical_crossentropy', metrics=['accuracy'])"
   ]
  },
  {
   "cell_type": "code",
   "execution_count": 7,
   "metadata": {},
   "outputs": [
    {
     "name": "stdout",
     "output_type": "stream",
     "text": [
      "Model: \"sequential\"\n",
      "_________________________________________________________________\n",
      " Layer (type)                Output Shape              Param #   \n",
      "=================================================================\n",
      " dense (Dense)               (None, 512)               401920    \n",
      "                                                                 \n",
      " dense_1 (Dense)             (None, 10)                5130      \n",
      "                                                                 \n",
      "=================================================================\n",
      "Total params: 407,050\n",
      "Trainable params: 407,050\n",
      "Non-trainable params: 0\n",
      "_________________________________________________________________\n"
     ]
    }
   ],
   "source": [
    "model.summary()"
   ]
  },
  {
   "cell_type": "code",
   "execution_count": 8,
   "metadata": {},
   "outputs": [
    {
     "name": "stdout",
     "output_type": "stream",
     "text": [
      "Epoch 1/15\n",
      "  1/375 [..............................] - ETA: 52s - loss: 2.4213 - accuracy: 0.0703"
     ]
    },
    {
     "name": "stderr",
     "output_type": "stream",
     "text": [
      "2023-07-13 16:09:18.301639: W tensorflow/tsl/platform/profile_utils/cpu_utils.cc:128] Failed to get CPU frequency: 0 Hz\n"
     ]
    },
    {
     "name": "stdout",
     "output_type": "stream",
     "text": [
      "375/375 [==============================] - 1s 3ms/step - loss: 0.2919 - accuracy: 0.9169 - val_loss: 0.1558 - val_accuracy: 0.9555\n",
      "Epoch 2/15\n",
      "375/375 [==============================] - 1s 2ms/step - loss: 0.1212 - accuracy: 0.9649 - val_loss: 0.1130 - val_accuracy: 0.9665\n",
      "Epoch 3/15\n",
      "375/375 [==============================] - 1s 2ms/step - loss: 0.0771 - accuracy: 0.9780 - val_loss: 0.0898 - val_accuracy: 0.9737\n",
      "Epoch 4/15\n",
      "375/375 [==============================] - 1s 2ms/step - loss: 0.0544 - accuracy: 0.9841 - val_loss: 0.0843 - val_accuracy: 0.9740\n",
      "Epoch 5/15\n",
      "375/375 [==============================] - 1s 2ms/step - loss: 0.0400 - accuracy: 0.9891 - val_loss: 0.0759 - val_accuracy: 0.9781\n",
      "Epoch 6/15\n",
      "375/375 [==============================] - 1s 2ms/step - loss: 0.0286 - accuracy: 0.9925 - val_loss: 0.0747 - val_accuracy: 0.9778\n",
      "Epoch 7/15\n",
      "375/375 [==============================] - 1s 2ms/step - loss: 0.0220 - accuracy: 0.9943 - val_loss: 0.0767 - val_accuracy: 0.9776\n",
      "Epoch 8/15\n",
      "375/375 [==============================] - 1s 2ms/step - loss: 0.0162 - accuracy: 0.9964 - val_loss: 0.0738 - val_accuracy: 0.9799\n",
      "Epoch 9/15\n",
      "375/375 [==============================] - 1s 2ms/step - loss: 0.0122 - accuracy: 0.9974 - val_loss: 0.0763 - val_accuracy: 0.9783\n",
      "Epoch 10/15\n",
      "375/375 [==============================] - 1s 2ms/step - loss: 0.0094 - accuracy: 0.9982 - val_loss: 0.0825 - val_accuracy: 0.9790\n",
      "Epoch 11/15\n",
      "375/375 [==============================] - 1s 2ms/step - loss: 0.0083 - accuracy: 0.9982 - val_loss: 0.0787 - val_accuracy: 0.9793\n",
      "Epoch 12/15\n",
      "375/375 [==============================] - 1s 2ms/step - loss: 0.0059 - accuracy: 0.9990 - val_loss: 0.0794 - val_accuracy: 0.9794\n",
      "Epoch 13/15\n",
      "375/375 [==============================] - 1s 2ms/step - loss: 0.0035 - accuracy: 0.9996 - val_loss: 0.0771 - val_accuracy: 0.9803\n",
      "Epoch 14/15\n",
      "375/375 [==============================] - 1s 2ms/step - loss: 0.0049 - accuracy: 0.9988 - val_loss: 0.0894 - val_accuracy: 0.9787\n",
      "Epoch 15/15\n",
      "375/375 [==============================] - 1s 3ms/step - loss: 0.0097 - accuracy: 0.9974 - val_loss: 0.0999 - val_accuracy: 0.9755\n"
     ]
    }
   ],
   "source": [
    "cp = keras.callbacks.EarlyStopping(patience=20, restore_best_weights=True)\n",
    "hist = model.fit(train_images2, train_labels, callbacks=[cp], validation_split=0.2, epochs=15, batch_size=128)"
   ]
  },
  {
   "attachments": {},
   "cell_type": "markdown",
   "metadata": {},
   "source": [
    "Check Learning History"
   ]
  },
  {
   "cell_type": "code",
   "execution_count": 13,
   "metadata": {},
   "outputs": [
    {
     "name": "stdout",
     "output_type": "stream",
     "text": [
      "loss\n",
      "[0.29194262623786926, 0.12119919806718826, 0.07711751759052277, 0.054428812116384506, 0.040007419884204865, 0.028566671535372734, 0.02196192741394043, 0.016202330589294434, 0.012227417901158333, 0.00936929602175951, 0.008266354911029339, 0.005903878714889288, 0.003473549149930477, 0.0048757451586425304, 0.009741928428411484]\n",
      "accuracy\n",
      "[0.9169374704360962, 0.9649166464805603, 0.9780416488647461, 0.9840624928474426, 0.989104151725769, 0.9924583435058594, 0.9942916631698608, 0.9963541626930237, 0.9973541498184204, 0.9981874823570251, 0.9981874823570251, 0.9989583492279053, 0.9996041655540466, 0.9988333582878113, 0.9973958134651184]\n",
      "val_loss\n",
      "[0.15581132471561432, 0.1129642054438591, 0.08979792147874832, 0.08425869047641754, 0.07591032981872559, 0.07473719865083694, 0.07670174539089203, 0.07379887253046036, 0.07625547796487808, 0.08246862888336182, 0.07870455086231232, 0.07935231924057007, 0.07713474333286285, 0.08943276852369308, 0.09991458803415298]\n",
      "val_accuracy\n",
      "[0.9555000066757202, 0.9664999842643738, 0.9737499952316284, 0.9739999771118164, 0.9780833125114441, 0.9777500033378601, 0.9775833487510681, 0.9799166917800903, 0.9782500267028809, 0.9789999723434448, 0.9793333411216736, 0.9794166684150696, 0.9803333282470703, 0.9786666631698608, 0.9754999876022339]\n"
     ]
    }
   ],
   "source": [
    "for h in hist.history:\n",
    "    print(h)\n",
    "    print(hist.history[h])"
   ]
  },
  {
   "attachments": {},
   "cell_type": "markdown",
   "metadata": {},
   "source": [
    "예측"
   ]
  },
  {
   "cell_type": "code",
   "execution_count": 15,
   "metadata": {},
   "outputs": [
    {
     "name": "stdout",
     "output_type": "stream",
     "text": [
      "1/1 [==============================] - 0s 38ms/step\n",
      "Real labels: 7 예측: 7\n",
      "Real labels: 2 예측: 2\n",
      "Real labels: 1 예측: 1\n",
      "Real labels: 0 예측: 0\n",
      "Real labels: 4 예측: 4\n",
      "Real labels: 1 예측: 1\n",
      "Real labels: 4 예측: 4\n",
      "Real labels: 9 예측: 9\n",
      "Real labels: 5 예측: 6\n",
      "Real labels: 9 예측: 9\n"
     ]
    }
   ],
   "source": [
    "pred_images = test_images2[0:10]\n",
    "real_labels = test_labels[0:10]\n",
    "pred_labels = model.predict(pred_images)\n",
    "\n",
    "for i in range(10):\n",
    "    print(f\"Real labels: {real_labels[i]} 예측: {np.argmax(pred_labels[i])}\")"
   ]
  },
  {
   "attachments": {},
   "cell_type": "markdown",
   "metadata": {},
   "source": [
    "평가"
   ]
  },
  {
   "cell_type": "code",
   "execution_count": 16,
   "metadata": {},
   "outputs": [
    {
     "name": "stdout",
     "output_type": "stream",
     "text": [
      "313/313 [==============================] - 0s 679us/step - loss: 0.0875 - accuracy: 0.9785\n",
      "loss: 0.09 acc: 0.98\n"
     ]
    }
   ],
   "source": [
    "test_loss, test_acc = model.evaluate(test_images2, test_labels)\n",
    "print(f'loss: {test_loss:.2f} acc: {test_acc:.2f}')"
   ]
  }
 ],
 "metadata": {
  "kernelspec": {
   "display_name": "Python 3",
   "language": "python",
   "name": "python3"
  },
  "language_info": {
   "codemirror_mode": {
    "name": "ipython",
    "version": 3
   },
   "file_extension": ".py",
   "mimetype": "text/x-python",
   "name": "python",
   "nbconvert_exporter": "python",
   "pygments_lexer": "ipython3",
   "version": "3.9.7"
  },
  "orig_nbformat": 4
 },
 "nbformat": 4,
 "nbformat_minor": 2
}
