{
 "cells": [
  {
   "cell_type": "code",
   "execution_count": 1,
   "metadata": {},
   "outputs": [],
   "source": [
    "import tensorflow as tf\n",
    "from tensorflow import keras\n",
    "from tensorflow.keras import layers\n",
    "from tensorflow.keras.datasets import mnist"
   ]
  },
  {
   "cell_type": "code",
   "execution_count": 2,
   "metadata": {},
   "outputs": [
    {
     "name": "stdout",
     "output_type": "stream",
     "text": [
      "(60000, 28, 28) (60000,)\n",
      "(10000, 28, 28) (10000,)\n"
     ]
    }
   ],
   "source": [
    "data = mnist.load_data()\n",
    "train_data, test_data = data\n",
    "train_images, train_labels = train_data\n",
    "test_images, test_labels = test_data\n",
    "print(train_images.shape,train_labels.shape)\n",
    "print(test_images.shape,test_labels.shape)"
   ]
  },
  {
   "cell_type": "code",
   "execution_count": 3,
   "metadata": {},
   "outputs": [
    {
     "name": "stdout",
     "output_type": "stream",
     "text": [
      "(60000, 784) <class 'numpy.float32'>\n",
      "(10000, 784) <class 'numpy.float32'>\n"
     ]
    }
   ],
   "source": [
    "train_images2 = train_images.reshape(-1,28*28)\n",
    "train_images2 = train_images2.astype(\"float32\")/255\n",
    "test_images2 = test_images.reshape(-1,28*28)\n",
    "test_images2 = test_images2.astype(\"float32\")/255\n",
    "print(train_images2.shape,type(train_images2[0][0]))\n",
    "print(test_images2.shape,type(test_images2[0][0]))"
   ]
  },
  {
   "cell_type": "code",
   "execution_count": 4,
   "metadata": {},
   "outputs": [],
   "source": [
    "model = keras.Sequential()\n",
    "model.add(keras.Input(shape=(784,)))\n",
    "model.add(layers.Dense(512,activation='relu'))\n",
    "model.add(layers.Dense(10,activation='softmax'))"
   ]
  },
  {
   "cell_type": "code",
   "execution_count": 5,
   "metadata": {},
   "outputs": [],
   "source": [
    "model.compile(optimizer='adam', loss='sparse_categorical_crossentropy', metrics=['accuracy'])"
   ]
  },
  {
   "cell_type": "code",
   "execution_count": 6,
   "metadata": {},
   "outputs": [
    {
     "name": "stdout",
     "output_type": "stream",
     "text": [
      "Model: \"sequential\"\n",
      "_________________________________________________________________\n",
      " Layer (type)                Output Shape              Param #   \n",
      "=================================================================\n",
      " dense (Dense)               (None, 512)               401920    \n",
      "                                                                 \n",
      " dense_1 (Dense)             (None, 10)                5130      \n",
      "                                                                 \n",
      "=================================================================\n",
      "Total params: 407,050\n",
      "Trainable params: 407,050\n",
      "Non-trainable params: 0\n",
      "_________________________________________________________________\n"
     ]
    }
   ],
   "source": [
    "model.summary()"
   ]
  },
  {
   "cell_type": "code",
   "execution_count": 8,
   "metadata": {},
   "outputs": [
    {
     "name": "stdout",
     "output_type": "stream",
     "text": [
      "Epoch 1/15\n",
      "375/375 [==============================] - 1s 2ms/step - loss: 0.0068 - accuracy: 0.9989 - val_loss: 0.0744 - val_accuracy: 0.9798\n",
      "Epoch 2/15\n",
      "375/375 [==============================] - 1s 2ms/step - loss: 0.0060 - accuracy: 0.9990 - val_loss: 0.0774 - val_accuracy: 0.9797\n",
      "Epoch 3/15\n",
      "375/375 [==============================] - 1s 2ms/step - loss: 0.0070 - accuracy: 0.9984 - val_loss: 0.1032 - val_accuracy: 0.9753\n",
      "Epoch 4/15\n",
      "375/375 [==============================] - 1s 2ms/step - loss: 0.0081 - accuracy: 0.9980 - val_loss: 0.0922 - val_accuracy: 0.9761\n",
      "Epoch 5/15\n",
      "375/375 [==============================] - 1s 2ms/step - loss: 0.0056 - accuracy: 0.9989 - val_loss: 0.0780 - val_accuracy: 0.9803\n",
      "Epoch 6/15\n",
      "375/375 [==============================] - 1s 2ms/step - loss: 0.0019 - accuracy: 0.9998 - val_loss: 0.0780 - val_accuracy: 0.9819\n",
      "Epoch 7/15\n",
      "375/375 [==============================] - 1s 2ms/step - loss: 0.0011 - accuracy: 0.9999 - val_loss: 0.0816 - val_accuracy: 0.9814\n",
      "Epoch 8/15\n",
      "375/375 [==============================] - 1s 2ms/step - loss: 0.0020 - accuracy: 0.9996 - val_loss: 0.0853 - val_accuracy: 0.9802\n",
      "Epoch 9/15\n",
      "375/375 [==============================] - 1s 2ms/step - loss: 0.0173 - accuracy: 0.9943 - val_loss: 0.0938 - val_accuracy: 0.9778\n",
      "Epoch 10/15\n",
      "375/375 [==============================] - 1s 2ms/step - loss: 0.0044 - accuracy: 0.9989 - val_loss: 0.0886 - val_accuracy: 0.9796\n",
      "Epoch 11/15\n",
      "375/375 [==============================] - 1s 2ms/step - loss: 0.0019 - accuracy: 0.9997 - val_loss: 0.0820 - val_accuracy: 0.9823\n",
      "Epoch 12/15\n",
      "375/375 [==============================] - 1s 2ms/step - loss: 4.2293e-04 - accuracy: 1.0000 - val_loss: 0.0820 - val_accuracy: 0.9820\n",
      "Epoch 13/15\n",
      "375/375 [==============================] - 1s 2ms/step - loss: 2.9859e-04 - accuracy: 1.0000 - val_loss: 0.0827 - val_accuracy: 0.9822\n",
      "Epoch 14/15\n",
      "375/375 [==============================] - 1s 2ms/step - loss: 2.4207e-04 - accuracy: 1.0000 - val_loss: 0.0828 - val_accuracy: 0.9823\n",
      "Epoch 15/15\n",
      "375/375 [==============================] - 1s 2ms/step - loss: 2.0631e-04 - accuracy: 1.0000 - val_loss: 0.0849 - val_accuracy: 0.9819\n"
     ]
    }
   ],
   "source": [
    "cp = keras.callbacks.EarlyStopping(patience=20, restore_best_weights=True)\n",
    "hist = model.fit(train_images2, train_labels, callbacks=[cp], validation_split=0.2, epochs=15, batch_size=128)"
   ]
  },
  {
   "cell_type": "code",
   "execution_count": null,
   "metadata": {},
   "outputs": [],
   "source": []
  }
 ],
 "metadata": {
  "kernelspec": {
   "display_name": "Python 3",
   "language": "python",
   "name": "python3"
  },
  "language_info": {
   "codemirror_mode": {
    "name": "ipython",
    "version": 3
   },
   "file_extension": ".py",
   "mimetype": "text/x-python",
   "name": "python",
   "nbconvert_exporter": "python",
   "pygments_lexer": "ipython3",
   "version": "3.9.7"
  },
  "orig_nbformat": 4
 },
 "nbformat": 4,
 "nbformat_minor": 2
}
